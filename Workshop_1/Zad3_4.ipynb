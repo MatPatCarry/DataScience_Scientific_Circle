{
 "cells": [
  {
   "cell_type": "code",
   "execution_count": 2,
   "metadata": {},
   "outputs": [],
   "source": [
    "import pandas as pd\n",
    "import matplotlib.pyplot as plt\n",
    "import seaborn as sns\n",
    "import numpy as np\n",
    "from sklearn.metrics import confusion_matrix\n",
    "\n",
    "def drawing_conf_matrix(y_test, predictes_values, title):\n",
    "    conf_matrix = confusion_matrix(y_test, predictes_values)\n",
    "\n",
    "    fig = plt.gcf()\n",
    "    fig.set_size_inches(18.5, 10.5)\n",
    "\n",
    "    sns.heatmap(conf_matrix, cmap='cividis' , square=True, annot=True, cbar=True,\n",
    "            xticklabels=[str(i) for i in range(1, 7)],\n",
    "            yticklabels=[str(i) for i in range(1, 7)])\n",
    "\n",
    "    plt.xlabel('Prediction')\n",
    "    plt.ylabel('Real value')\n",
    "    plt.title(title, fontsize=20)\n",
    "\n",
    "    plt.show()\n",
    "\n",
    "\n"
   ]
  },
  {
   "cell_type": "code",
   "execution_count": 3,
   "metadata": {},
   "outputs": [
    {
     "data": {
      "text/html": [
       "<div>\n",
       "<style scoped>\n",
       "    .dataframe tbody tr th:only-of-type {\n",
       "        vertical-align: middle;\n",
       "    }\n",
       "\n",
       "    .dataframe tbody tr th {\n",
       "        vertical-align: top;\n",
       "    }\n",
       "\n",
       "    .dataframe thead th {\n",
       "        text-align: right;\n",
       "    }\n",
       "</style>\n",
       "<table border=\"1\" class=\"dataframe\">\n",
       "  <thead>\n",
       "    <tr style=\"text-align: right;\">\n",
       "      <th></th>\n",
       "      <th>Temperature</th>\n",
       "      <th>L</th>\n",
       "      <th>R</th>\n",
       "      <th>A_M</th>\n",
       "      <th>Color</th>\n",
       "      <th>Spectral_Class</th>\n",
       "      <th>Type</th>\n",
       "    </tr>\n",
       "  </thead>\n",
       "  <tbody>\n",
       "    <tr>\n",
       "      <th>0</th>\n",
       "      <td>3068</td>\n",
       "      <td>0.002400</td>\n",
       "      <td>0.1700</td>\n",
       "      <td>16.12</td>\n",
       "      <td>Red</td>\n",
       "      <td>M</td>\n",
       "      <td>0</td>\n",
       "    </tr>\n",
       "    <tr>\n",
       "      <th>1</th>\n",
       "      <td>3042</td>\n",
       "      <td>0.000500</td>\n",
       "      <td>0.1542</td>\n",
       "      <td>16.60</td>\n",
       "      <td>Red</td>\n",
       "      <td>M</td>\n",
       "      <td>0</td>\n",
       "    </tr>\n",
       "    <tr>\n",
       "      <th>2</th>\n",
       "      <td>2600</td>\n",
       "      <td>0.000300</td>\n",
       "      <td>0.1020</td>\n",
       "      <td>18.70</td>\n",
       "      <td>Red</td>\n",
       "      <td>M</td>\n",
       "      <td>0</td>\n",
       "    </tr>\n",
       "    <tr>\n",
       "      <th>3</th>\n",
       "      <td>2800</td>\n",
       "      <td>0.000200</td>\n",
       "      <td>0.1600</td>\n",
       "      <td>16.65</td>\n",
       "      <td>Red</td>\n",
       "      <td>M</td>\n",
       "      <td>0</td>\n",
       "    </tr>\n",
       "    <tr>\n",
       "      <th>4</th>\n",
       "      <td>1939</td>\n",
       "      <td>0.000138</td>\n",
       "      <td>0.1030</td>\n",
       "      <td>20.06</td>\n",
       "      <td>Red</td>\n",
       "      <td>M</td>\n",
       "      <td>0</td>\n",
       "    </tr>\n",
       "    <tr>\n",
       "      <th>5</th>\n",
       "      <td>2840</td>\n",
       "      <td>0.000650</td>\n",
       "      <td>0.1100</td>\n",
       "      <td>16.98</td>\n",
       "      <td>Red</td>\n",
       "      <td>M</td>\n",
       "      <td>0</td>\n",
       "    </tr>\n",
       "    <tr>\n",
       "      <th>6</th>\n",
       "      <td>2637</td>\n",
       "      <td>0.000730</td>\n",
       "      <td>0.1270</td>\n",
       "      <td>17.22</td>\n",
       "      <td>Red</td>\n",
       "      <td>M</td>\n",
       "      <td>0</td>\n",
       "    </tr>\n",
       "    <tr>\n",
       "      <th>7</th>\n",
       "      <td>2600</td>\n",
       "      <td>0.000400</td>\n",
       "      <td>0.0960</td>\n",
       "      <td>17.40</td>\n",
       "      <td>Red</td>\n",
       "      <td>M</td>\n",
       "      <td>0</td>\n",
       "    </tr>\n",
       "    <tr>\n",
       "      <th>8</th>\n",
       "      <td>2650</td>\n",
       "      <td>0.000690</td>\n",
       "      <td>0.1100</td>\n",
       "      <td>17.45</td>\n",
       "      <td>Red</td>\n",
       "      <td>M</td>\n",
       "      <td>0</td>\n",
       "    </tr>\n",
       "    <tr>\n",
       "      <th>9</th>\n",
       "      <td>2700</td>\n",
       "      <td>0.000180</td>\n",
       "      <td>0.1300</td>\n",
       "      <td>16.05</td>\n",
       "      <td>Red</td>\n",
       "      <td>M</td>\n",
       "      <td>0</td>\n",
       "    </tr>\n",
       "  </tbody>\n",
       "</table>\n",
       "</div>"
      ],
      "text/plain": [
       "   Temperature         L       R    A_M Color Spectral_Class  Type\n",
       "0         3068  0.002400  0.1700  16.12   Red              M     0\n",
       "1         3042  0.000500  0.1542  16.60   Red              M     0\n",
       "2         2600  0.000300  0.1020  18.70   Red              M     0\n",
       "3         2800  0.000200  0.1600  16.65   Red              M     0\n",
       "4         1939  0.000138  0.1030  20.06   Red              M     0\n",
       "5         2840  0.000650  0.1100  16.98   Red              M     0\n",
       "6         2637  0.000730  0.1270  17.22   Red              M     0\n",
       "7         2600  0.000400  0.0960  17.40   Red              M     0\n",
       "8         2650  0.000690  0.1100  17.45   Red              M     0\n",
       "9         2700  0.000180  0.1300  16.05   Red              M     0"
      ]
     },
     "execution_count": 3,
     "metadata": {},
     "output_type": "execute_result"
    }
   ],
   "source": [
    "path = 'C:/Users/matys/Downloads/kaggle_data/'\n",
    "file_name = 'Stars.csv'\n",
    "\n",
    "df = pd.read_csv(path + file_name, sep=\",\")\n",
    "df[0:10]"
   ]
  },
  {
   "cell_type": "code",
   "execution_count": 4,
   "metadata": {},
   "outputs": [
    {
     "data": {
      "text/plain": [
       "False"
      ]
     },
     "execution_count": 4,
     "metadata": {},
     "output_type": "execute_result"
    }
   ],
   "source": [
    "any_nulls = df.isnull().values.any()\n",
    "any_nulls"
   ]
  },
  {
   "cell_type": "code",
   "execution_count": 5,
   "metadata": {},
   "outputs": [],
   "source": [
    "numerical_values = df.iloc[:, 0:4]\n",
    "categorical_values = df.iloc[:, 4: len(df.columns) - 1]\n",
    "types = list(df['Type'])\n"
   ]
  },
  {
   "cell_type": "code",
   "execution_count": 6,
   "metadata": {},
   "outputs": [
    {
     "data": {
      "image/png": "[encoded data removed]",
      "text/plain": [
       "<Figure size 576x432 with 1 Axes>"
      ]
     },
     "metadata": {
      "needs_background": "light"
     },
     "output_type": "display_data"
    }
   ],
   "source": [
    "fig, ax = plt.subplots(figsize=(8, 6))\n",
    "sns.countplot(data=df, x=\"Type\")\n",
    "plt.show()"
   ]
  },
  {
   "cell_type": "code",
   "execution_count": 7,
   "metadata": {},
   "outputs": [
    {
     "data": {
      "text/plain": [
       "array([[-0.7793821 , -0.59862356, -0.45920992,  1.11674535,  8.        ,\n",
       "         5.        ],\n",
       "       [-0.78210961, -0.59862357, -0.45924053,  1.16241376,  8.        ,\n",
       "         5.        ],\n",
       "       [-0.82847728, -0.59862357, -0.45934168,  1.36221308,  8.        ,\n",
       "         5.        ],\n",
       "       ...,\n",
       "       [-0.17502879,  2.40315735,  2.29779992, -1.43783157,  9.        ,\n",
       "         0.        ],\n",
       "       [-0.13243767,  1.66287782,  1.69517694, -1.48540283,  9.        ,\n",
       "         0.        ],\n",
       "       [ 2.87275403,  1.04834522,  2.99536993, -1.15906395,  0.        ,\n",
       "         6.        ]])"
      ]
     },
     "execution_count": 7,
     "metadata": {},
     "output_type": "execute_result"
    }
   ],
   "source": [
    "from sklearn.preprocessing import StandardScaler, OrdinalEncoder\n",
    "\n",
    "numerical_values_scaler = StandardScaler()\n",
    "categorical_values_scaler = OrdinalEncoder()\n",
    "\n",
    "transformed_numerical_values = numerical_values_scaler.fit_transform(numerical_values)\n",
    "transformed_categorical_values = categorical_values_scaler.fit_transform(categorical_values)\n",
    "\n",
    "new_x_values = np.concatenate((transformed_numerical_values, transformed_categorical_values), axis=1) \n",
    "new_x_values"
   ]
  },
  {
   "cell_type": "code",
   "execution_count": 8,
   "metadata": {},
   "outputs": [
    {
     "data": {
      "text/html": [
       "<div>\n",
       "<style scoped>\n",
       "    .dataframe tbody tr th:only-of-type {\n",
       "        vertical-align: middle;\n",
       "    }\n",
       "\n",
       "    .dataframe tbody tr th {\n",
       "        vertical-align: top;\n",
       "    }\n",
       "\n",
       "    .dataframe thead th {\n",
       "        text-align: right;\n",
       "    }\n",
       "</style>\n",
       "<table border=\"1\" class=\"dataframe\">\n",
       "  <thead>\n",
       "    <tr style=\"text-align: right;\">\n",
       "      <th></th>\n",
       "      <th>x1</th>\n",
       "      <th>x2</th>\n",
       "      <th>label</th>\n",
       "    </tr>\n",
       "  </thead>\n",
       "  <tbody>\n",
       "    <tr>\n",
       "      <th>0</th>\n",
       "      <td>2.483737</td>\n",
       "      <td>-1.021431</td>\n",
       "      <td>0</td>\n",
       "    </tr>\n",
       "    <tr>\n",
       "      <th>1</th>\n",
       "      <td>2.488092</td>\n",
       "      <td>-1.017530</td>\n",
       "      <td>0</td>\n",
       "    </tr>\n",
       "    <tr>\n",
       "      <th>2</th>\n",
       "      <td>2.512831</td>\n",
       "      <td>-1.003466</td>\n",
       "      <td>0</td>\n",
       "    </tr>\n",
       "    <tr>\n",
       "      <th>3</th>\n",
       "      <td>2.492689</td>\n",
       "      <td>-1.019310</td>\n",
       "      <td>0</td>\n",
       "    </tr>\n",
       "    <tr>\n",
       "      <th>4</th>\n",
       "      <td>2.535340</td>\n",
       "      <td>-0.997786</td>\n",
       "      <td>0</td>\n",
       "    </tr>\n",
       "    <tr>\n",
       "      <th>...</th>\n",
       "      <td>...</td>\n",
       "      <td>...</td>\n",
       "      <td>...</td>\n",
       "    </tr>\n",
       "    <tr>\n",
       "      <th>235</th>\n",
       "      <td>-6.385435</td>\n",
       "      <td>-2.514709</td>\n",
       "      <td>5</td>\n",
       "    </tr>\n",
       "    <tr>\n",
       "      <th>236</th>\n",
       "      <td>-6.495543</td>\n",
       "      <td>-3.026009</td>\n",
       "      <td>5</td>\n",
       "    </tr>\n",
       "    <tr>\n",
       "      <th>237</th>\n",
       "      <td>2.771748</td>\n",
       "      <td>2.847062</td>\n",
       "      <td>5</td>\n",
       "    </tr>\n",
       "    <tr>\n",
       "      <th>238</th>\n",
       "      <td>2.837548</td>\n",
       "      <td>3.037865</td>\n",
       "      <td>5</td>\n",
       "    </tr>\n",
       "    <tr>\n",
       "      <th>239</th>\n",
       "      <td>-6.314186</td>\n",
       "      <td>-2.505540</td>\n",
       "      <td>5</td>\n",
       "    </tr>\n",
       "  </tbody>\n",
       "</table>\n",
       "<p>240 rows × 3 columns</p>\n",
       "</div>"
      ],
      "text/plain": [
       "           x1        x2  label\n",
       "0    2.483737 -1.021431      0\n",
       "1    2.488092 -1.017530      0\n",
       "2    2.512831 -1.003466      0\n",
       "3    2.492689 -1.019310      0\n",
       "4    2.535340 -0.997786      0\n",
       "..        ...       ...    ...\n",
       "235 -6.385435 -2.514709      5\n",
       "236 -6.495543 -3.026009      5\n",
       "237  2.771748  2.847062      5\n",
       "238  2.837548  3.037865      5\n",
       "239 -6.314186 -2.505540      5\n",
       "\n",
       "[240 rows x 3 columns]"
      ]
     },
     "execution_count": 8,
     "metadata": {},
     "output_type": "execute_result"
    }
   ],
   "source": [
    "from sklearn.decomposition import PCA\n",
    "\n",
    "pca = PCA(n_components=2)\n",
    "x_values_after_pca = pca.fit_transform(new_x_values)\n",
    "\n",
    "df_after_pca = pd.DataFrame({'x1': x_values_after_pca[:, 0], \n",
    "                             'x2': x_values_after_pca[:, 1],\n",
    "                             'label': types})\n",
    "df_after_pca"
   ]
  },
  {
   "cell_type": "code",
   "execution_count": 9,
   "metadata": {},
   "outputs": [
    {
     "data": {
      "image/png": "[encoded data removed]",
      "text/plain": [
       "<Figure size 720x720 with 1 Axes>"
      ]
     },
     "metadata": {
      "needs_background": "light"
     },
     "output_type": "display_data"
    }
   ],
   "source": [
    "fig, ax = plt.subplots(1, 1, figsize=(10, 10))\n",
    "sns.scatterplot(x=\"x1\", y=\"x2\", data=df_after_pca, hue=\"label\", palette=\"deep\")\n",
    "plt.show()"
   ]
  },
  {
   "cell_type": "code",
   "execution_count": 10,
   "metadata": {},
   "outputs": [
    {
     "name": "stdout",
     "output_type": "stream",
     "text": [
      "x1 : 0.71%, x2: 0.17%\n",
      "\n",
      "Total level of explained variance: 0.88%\n"
     ]
    }
   ],
   "source": [
    "x1_exp_var, x2_exp_var = pca.explained_variance_ratio_\n",
    "print(f'x1 : {x1_exp_var.__round__(2)}%, x2: {x2_exp_var.__round__(2)}%\\n')\n",
    "explained_variance = (np.cumsum(pca.explained_variance_ratio_))[1]\n",
    "print(f\"Total level of explained variance: {explained_variance.__round__(2)}%\")\n"
   ]
  },
  {
   "cell_type": "markdown",
   "metadata": {},
   "source": [
    "First variable has the biggest impact on classifying model beacuse its level od explained variance is about 71% which is more than a half. Togheter with second varaible they explain 88% of total variance which is satysfying value and we could recoginize this model after dimension reduction as 'reliable'."
   ]
  },
  {
   "cell_type": "code",
   "execution_count": 11,
   "metadata": {},
   "outputs": [],
   "source": [
    "from sklearn.model_selection import train_test_split\n",
    "from sklearn.gaussian_process import GaussianProcessClassifier\n",
    "\n",
    "x_train, x_test, y_train, y_test = train_test_split(new_x_values, types, train_size=0.75)\n",
    "\n",
    "gpc_classifier = GaussianProcessClassifier()\n",
    "\n",
    "gpc_classifier.fit(x_train, y_train)\n",
    "gpc_type_predictions = gpc_classifier.predict(x_test)"
   ]
  },
  {
   "cell_type": "code",
   "execution_count": 12,
   "metadata": {},
   "outputs": [],
   "source": [
    "from sklearn.ensemble import RandomForestClassifier\n",
    "from sklearn.metrics import recall_score, accuracy_score\n",
    "\n",
    "rfc_classifier = RandomForestClassifier()\n",
    "rfc_classifier.fit(x_train, y_train)\n",
    "rfc_type_predictions = rfc_classifier.predict(x_test)\n",
    "\n"
   ]
  },
  {
   "cell_type": "code",
   "execution_count": 13,
   "metadata": {},
   "outputs": [
    {
     "name": "stdout",
     "output_type": "stream",
     "text": [
      "GPC accuracy\n",
      "\n",
      "Test accuracy: 0.9833333333333333\n",
      "Test recall score: 0.9833333333333333\n",
      "\n"
     ]
    },
    {
     "data": {
      "image/png": "[encoded data removed]",
      "text/plain": [
       "<Figure size 1332x756 with 2 Axes>"
      ]
     },
     "metadata": {
      "needs_background": "light"
     },
     "output_type": "display_data"
    }
   ],
   "source": [
    "print(\"GPC accuracy\\n\")\n",
    "print(f\"Test accuracy: {accuracy_score(y_test, gpc_type_predictions)}\")\n",
    "print(f\"Test recall score: {recall_score(y_test, gpc_type_predictions, average='micro')}\\n\")\n",
    "\n",
    "drawing_conf_matrix(y_test, gpc_type_predictions, 'GPC classifier')\n"
   ]
  },
  {
   "cell_type": "code",
   "execution_count": 14,
   "metadata": {},
   "outputs": [
    {
     "name": "stdout",
     "output_type": "stream",
     "text": [
      "RFC accuracy\n",
      "\n",
      "Test accuracy: 1.0\n",
      "Test recall score: 1.0\n",
      "\n"
     ]
    },
    {
     "data": {
      "image/png": "[encoded data removed]",
      "text/plain": [
       "<Figure size 1332x756 with 2 Axes>"
      ]
     },
     "metadata": {
      "needs_background": "light"
     },
     "output_type": "display_data"
    }
   ],
   "source": [
    "print(\"RFC accuracy\\n\")\n",
    "print(f\"Test accuracy: {accuracy_score(y_test, rfc_type_predictions)}\")\n",
    "print(f\"Test recall score: {recall_score(y_test, rfc_type_predictions, average='micro')}\\n\")\n",
    "\n",
    "drawing_conf_matrix(y_test, rfc_type_predictions, 'RFC classifier')"
   ]
  }
 ],
 "metadata": {
  "interpreter": {
   "hash": "ddc53d147917a7a6f329ad67fc79e78b8a7bead2165026bec8e9413d581dc6c9"
  },
  "kernelspec": {
   "display_name": "Python 3 (ipykernel)",
   "language": "python",
   "name": "python3"
  },
  "language_info": {
   "codemirror_mode": {
    "name": "ipython",
    "version": 3
   },
   "file_extension": ".py",
   "mimetype": "text/x-python",
   "name": "python",
   "nbconvert_exporter": "python",
   "pygments_lexer": "ipython3",
   "version": "3.9.5"
  }
 },
 "nbformat": 4,
 "nbformat_minor": 4
}
